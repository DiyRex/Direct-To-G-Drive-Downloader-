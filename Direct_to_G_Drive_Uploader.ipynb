{
  "nbformat": 4,
  "nbformat_minor": 0,
  "metadata": {
    "colab": {
      "name": "Direct to G-Drive Uploader.ipynb",
      "provenance": [],
      "collapsed_sections": [],
      "authorship_tag": "ABX9TyNNwj+pne7E/r6KL1jP7Zom",
      "include_colab_link": true
    },
    "kernelspec": {
      "name": "python3",
      "display_name": "Python 3"
    },
    "language_info": {
      "name": "python"
    }
  },
  "cells": [
    {
      "cell_type": "markdown",
      "metadata": {
        "id": "view-in-github",
        "colab_type": "text"
      },
      "source": [
        "<a href=\"https://colab.research.google.com/github/DiyRex/Direct-To-G-Drive-Uploader-/blob/main/Direct_to_G_Drive_Uploader.ipynb\" target=\"_parent\"><img src=\"https://colab.research.google.com/assets/colab-badge.svg\" alt=\"Open In Colab\"/></a>"
      ]
    },
    {
      "cell_type": "markdown",
      "metadata": {
        "id": "sK2HpjwTQEo0"
      },
      "source": [
        "# **Direct Link To G-Drive Uploader**\n",
        "\n",
        "---\n",
        "\n"
      ]
    },
    {
      "cell_type": "code",
      "metadata": {
        "cellView": "form",
        "id": "TGyN5UGOW5Aq"
      },
      "source": [
        "#@markdown <br><center><img src='https://github.com/DiyRex/Torrent-to-G-Drive-/blob/main/google_drive_new_logo-512.png?raw=true' height=\"100\" alt=\"Gdrive-logo\"/></center>\n",
        "#@markdown <center><h3>Mount Gdrive to /content/drive</h3></center><br>\n",
        "MODE = \"MOUNT G-Drive\" #@param [\"MOUNT G-Drive\", \"UNMOUNT G-Drive\"]\n",
        "#Mount your G-drive! \n",
        "from google.colab import drive\n",
        "drive.mount._DEBUG = False\n",
        "if MODE == \"MOUNT G-Drive\":\n",
        "  drive.mount('/content/drive', force_remount=True)\n",
        "elif MODE == \"UNMOUNT G-Drive\":\n",
        "  try:\n",
        "    drive.flush_and_unmount()\n",
        "  except ValueError:\n",
        "    pass\n",
        "  get_ipython().system_raw(\"rm -rf /root/.config/Google/DriveFS\")"
      ],
      "execution_count": null,
      "outputs": []
    },
    {
      "cell_type": "markdown",
      "metadata": {
        "id": "cGKXKRYHXApF"
      },
      "source": [
        "\n",
        "\n",
        "--------------------\n",
        "\n",
        "----------------------\n",
        "\n",
        "\n"
      ]
    },
    {
      "cell_type": "code",
      "metadata": {
        "cellView": "form",
        "id": "v0JtzihfXCU0"
      },
      "source": [
        "#@markdown <ul style=\"list-style-type: square;\">\n",
        "#@markdown &nbsp;<li>\n",
        "#@markdown <h1><strong>&nbsp;Direct Download</strong></h1>\n",
        "#@markdown<br>\n",
        "#@markdown<br>",
        "#@markdown<br>",
        "#@markdown<br>",
        "#@markdown ### &nbsp;&nbsp;&nbsp;&nbsp;&nbsp;&nbsp;&nbsp;&nbsp;&nbsp;&nbsp;&nbsp;Enter a Direct Link:",
        "URL = "" #@param {type:"string"}",
        "url = URL",
        "#@markdown </li>\n",
        "#@markdown </ul>\n",
        "\n",
        "import requests\n",
        "import mimetypes\n",
        "import sys\n",
        "import os\n",
        "from urllib.parse import urlparse\n",
        "\n",
        "url = input('Enter the URL: ')\n",
        "print(f'You entered {url}')\n",
        "\n",
        "\n",
        "a = urlparse(url)\n",
        "fname = a.path\n",
        "filenamef = os.path.basename(a.path)\n",
        "\n",
        "filename_small = fname.replace(\"/\", \" \")\n",
        "final = filename_small.lstrip(\" \")\n",
        "filename = final.replace(\" \", \"_\")\n",
        "print(filename)\n",
        "\n",
        "Download_path = \"/content/drive/MyDrive/Colab/\"\n",
        "file_name = Download_path + filename\n",
        "with open(file_name, \"wb\") as f:\n",
        "    print( \"Downloading %s\" % file_name)\n",
        "    response = requests.get(url, stream=True)\n",
        "    total_length = response.headers.get('content-length')\n",
        "\n",
        "    if total_length is None: # no content length header\n",
        "        f.write(response.content)\n",
        "    else:\n",
        "        dl = 0\n",
        "        total_length = int(total_length)\n",
        "        for data in response.iter_content(chunk_size=4096):\n",
        "            dl += len(data)\n",
        "            f.write(data)\n",
        "            done = int(50 * dl / total_length)\n",
        "            donez = int(100 * dl / total_length)\n",
        "            sys.stdout.write(\"\\r[%s%s]\" % ('█' * done, ' ' * (50-done)) + \"  \" + str(donez) + \"%\" )    \n",
        "            sys.stdout.flush()"
      ],
      "execution_count": null,
      "outputs": []
    }
  ]
}
